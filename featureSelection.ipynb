{
 "cells": [
  {
   "cell_type": "code",
   "execution_count": 1,
   "metadata": {
    "collapsed": true
   },
   "outputs": [],
   "source": [
    "# Load libraries\n",
    "import pandas\n",
    "import numpy\n",
    "from pandas import read_csv\n",
    "from pandas import set_option\n",
    "from pandas import scatter_matrix\n",
    "from matplotlib import pyplot\n",
    "from sklearn.preprocessing import StandardScaler\n",
    "from sklearn.model_selection import train_test_split\n",
    "from sklearn.model_selection import KFold\n",
    "from sklearn.model_selection import cross_val_score\n",
    "from sklearn.metrics import classification_report\n",
    "from sklearn.metrics import confusion_matrix\n",
    "from sklearn.metrics import accuracy_score\n",
    "from sklearn.pipeline import Pipeline\n",
    "from sklearn.linear_model import LogisticRegression\n",
    "from sklearn.tree import DecisionTreeClassifier\n",
    "from sklearn.neighbors import KNeighborsClassifier\n",
    "from sklearn.discriminant_analysis import LinearDiscriminantAnalysis\n",
    "from sklearn.naive_bayes import GaussianNB\n",
    "from sklearn.svm import SVC"
   ]
  },
  {
   "cell_type": "code",
   "execution_count": 2,
   "metadata": {},
   "outputs": [
    {
     "data": {
      "text/html": [
       "<div>\n",
       "<table border=\"1\" class=\"dataframe\">\n",
       "  <thead>\n",
       "    <tr style=\"text-align: right;\">\n",
       "      <th></th>\n",
       "      <th>1</th>\n",
       "      <th>2</th>\n",
       "      <th>3</th>\n",
       "      <th>4</th>\n",
       "      <th>5</th>\n",
       "      <th>6</th>\n",
       "      <th>7</th>\n",
       "      <th>8</th>\n",
       "      <th>9</th>\n",
       "      <th>10</th>\n",
       "      <th>...</th>\n",
       "      <th>104</th>\n",
       "      <th>105</th>\n",
       "      <th>106</th>\n",
       "      <th>107</th>\n",
       "      <th>108</th>\n",
       "      <th>109</th>\n",
       "      <th>110</th>\n",
       "      <th>111</th>\n",
       "      <th>112</th>\n",
       "      <th>113</th>\n",
       "    </tr>\n",
       "  </thead>\n",
       "  <tbody>\n",
       "    <tr>\n",
       "      <th>0</th>\n",
       "      <td>0.000016</td>\n",
       "      <td>0.001508</td>\n",
       "      <td>0.007613</td>\n",
       "      <td>0.003008</td>\n",
       "      <td>0.006957</td>\n",
       "      <td>0.001223</td>\n",
       "      <td>-0.001232</td>\n",
       "      <td>0.000632</td>\n",
       "      <td>0.007970</td>\n",
       "      <td>0.001889</td>\n",
       "      <td>...</td>\n",
       "      <td>1.189600e-07</td>\n",
       "      <td>0.009469</td>\n",
       "      <td>0.008111</td>\n",
       "      <td>0.008215</td>\n",
       "      <td>3.821800e-08</td>\n",
       "      <td>3.345300e-07</td>\n",
       "      <td>0.007367</td>\n",
       "      <td>0.008111</td>\n",
       "      <td>0.008216</td>\n",
       "      <td>0</td>\n",
       "    </tr>\n",
       "    <tr>\n",
       "      <th>1</th>\n",
       "      <td>0.000230</td>\n",
       "      <td>0.005695</td>\n",
       "      <td>0.003243</td>\n",
       "      <td>0.007347</td>\n",
       "      <td>0.007905</td>\n",
       "      <td>0.003790</td>\n",
       "      <td>-0.005473</td>\n",
       "      <td>0.002345</td>\n",
       "      <td>0.008058</td>\n",
       "      <td>0.006100</td>\n",
       "      <td>...</td>\n",
       "      <td>1.189300e-07</td>\n",
       "      <td>0.009469</td>\n",
       "      <td>0.008111</td>\n",
       "      <td>0.008215</td>\n",
       "      <td>3.773500e-08</td>\n",
       "      <td>3.392600e-07</td>\n",
       "      <td>0.007364</td>\n",
       "      <td>0.008111</td>\n",
       "      <td>0.008216</td>\n",
       "      <td>0</td>\n",
       "    </tr>\n",
       "    <tr>\n",
       "      <th>2</th>\n",
       "      <td>0.000490</td>\n",
       "      <td>0.008316</td>\n",
       "      <td>0.002382</td>\n",
       "      <td>0.004072</td>\n",
       "      <td>0.008095</td>\n",
       "      <td>0.006335</td>\n",
       "      <td>-0.007007</td>\n",
       "      <td>0.003417</td>\n",
       "      <td>0.008087</td>\n",
       "      <td>0.011847</td>\n",
       "      <td>...</td>\n",
       "      <td>1.188700e-07</td>\n",
       "      <td>0.009469</td>\n",
       "      <td>0.008111</td>\n",
       "      <td>0.008215</td>\n",
       "      <td>3.723900e-08</td>\n",
       "      <td>3.926500e-07</td>\n",
       "      <td>0.007356</td>\n",
       "      <td>0.008111</td>\n",
       "      <td>0.008216</td>\n",
       "      <td>0</td>\n",
       "    </tr>\n",
       "    <tr>\n",
       "      <th>3</th>\n",
       "      <td>0.000314</td>\n",
       "      <td>0.006650</td>\n",
       "      <td>0.002761</td>\n",
       "      <td>0.007824</td>\n",
       "      <td>0.007888</td>\n",
       "      <td>0.005091</td>\n",
       "      <td>-0.004392</td>\n",
       "      <td>0.002745</td>\n",
       "      <td>0.008056</td>\n",
       "      <td>0.001800</td>\n",
       "      <td>...</td>\n",
       "      <td>1.187800e-07</td>\n",
       "      <td>0.009469</td>\n",
       "      <td>0.008111</td>\n",
       "      <td>0.008215</td>\n",
       "      <td>3.673500e-08</td>\n",
       "      <td>1.463300e-06</td>\n",
       "      <td>0.007343</td>\n",
       "      <td>0.008111</td>\n",
       "      <td>0.008216</td>\n",
       "      <td>0</td>\n",
       "    </tr>\n",
       "    <tr>\n",
       "      <th>4</th>\n",
       "      <td>0.000031</td>\n",
       "      <td>0.002102</td>\n",
       "      <td>0.007215</td>\n",
       "      <td>0.010094</td>\n",
       "      <td>0.007444</td>\n",
       "      <td>0.001692</td>\n",
       "      <td>-0.001825</td>\n",
       "      <td>0.000872</td>\n",
       "      <td>0.008010</td>\n",
       "      <td>0.002490</td>\n",
       "      <td>...</td>\n",
       "      <td>1.186600e-07</td>\n",
       "      <td>0.009468</td>\n",
       "      <td>0.008111</td>\n",
       "      <td>0.008215</td>\n",
       "      <td>3.614400e-08</td>\n",
       "      <td>8.368300e-06</td>\n",
       "      <td>0.007282</td>\n",
       "      <td>0.008111</td>\n",
       "      <td>0.008203</td>\n",
       "      <td>0</td>\n",
       "    </tr>\n",
       "  </tbody>\n",
       "</table>\n",
       "<p>5 rows × 113 columns</p>\n",
       "</div>"
      ],
      "text/plain": [
       "          1         2         3         4         5         6         7  \\\n",
       "0  0.000016  0.001508  0.007613  0.003008  0.006957  0.001223 -0.001232   \n",
       "1  0.000230  0.005695  0.003243  0.007347  0.007905  0.003790 -0.005473   \n",
       "2  0.000490  0.008316  0.002382  0.004072  0.008095  0.006335 -0.007007   \n",
       "3  0.000314  0.006650  0.002761  0.007824  0.007888  0.005091 -0.004392   \n",
       "4  0.000031  0.002102  0.007215  0.010094  0.007444  0.001692 -0.001825   \n",
       "\n",
       "          8         9        10 ...            104       105       106  \\\n",
       "0  0.000632  0.007970  0.001889 ...   1.189600e-07  0.009469  0.008111   \n",
       "1  0.002345  0.008058  0.006100 ...   1.189300e-07  0.009469  0.008111   \n",
       "2  0.003417  0.008087  0.011847 ...   1.188700e-07  0.009469  0.008111   \n",
       "3  0.002745  0.008056  0.001800 ...   1.187800e-07  0.009469  0.008111   \n",
       "4  0.000872  0.008010  0.002490 ...   1.186600e-07  0.009468  0.008111   \n",
       "\n",
       "        107           108           109       110       111       112  113  \n",
       "0  0.008215  3.821800e-08  3.345300e-07  0.007367  0.008111  0.008216    0  \n",
       "1  0.008215  3.773500e-08  3.392600e-07  0.007364  0.008111  0.008216    0  \n",
       "2  0.008215  3.723900e-08  3.926500e-07  0.007356  0.008111  0.008216    0  \n",
       "3  0.008215  3.673500e-08  1.463300e-06  0.007343  0.008111  0.008216    0  \n",
       "4  0.008215  3.614400e-08  8.368300e-06  0.007282  0.008111  0.008203    0  \n",
       "\n",
       "[5 rows x 113 columns]"
      ]
     },
     "execution_count": 2,
     "metadata": {},
     "output_type": "execute_result"
    }
   ],
   "source": [
    "# Load dataset\n",
    "dataset = 'data/All_norm_Features_2.csv'\n",
    "df = pandas.read_csv(dataset , encoding ='ISO-8859-1')\n",
    "#names = dataset.columns.values\n",
    "df.head()"
   ]
  },
  {
   "cell_type": "code",
   "execution_count": 3,
   "metadata": {},
   "outputs": [
    {
     "name": "stdout",
     "output_type": "stream",
     "text": [
      "113\n",
      "0    8055\n",
      "1     604\n",
      "2    3621\n",
      "3     672\n",
      "4     627\n",
      "5    1609\n",
      "6      11\n",
      "dtype: int64\n"
     ]
    }
   ],
   "source": [
    "# class distribution\n",
    "print(df.groupby('113').size())"
   ]
  },
  {
   "cell_type": "code",
   "execution_count": 34,
   "metadata": {
    "collapsed": true
   },
   "outputs": [],
   "source": [
    "import pandas\n",
    "import io\n",
    "X = df.iloc[:, [ 2  ,   3  ,   4  ,   5  ,   6  ,   8  ,   9  ,   11  ,   12  ,   15  ,   17  ,   20  ,   21  ,\n",
    "         26  ,   29  ,   30  ,   32  ,   33  ,   35  ,   36  ,   38  ,   39  ,   44  ,   45  ,   47  ,\n",
    "         48  ,   53  ,   56  ,   57  ,   62  ,   63  ,   65  ,   66  ,   68  ,   71  ,   72  ,   74  ,\n",
    "         75  ,   78  ,   79  ,   80  ,   83  ,   85  ,   87  ,   88  ,   90  ,   93  ,   98  ,   100  ,\n",
    "         103  ,   105  ,   108  ,   110  ,   112   ]].values\n",
    "\n",
    "y = df.iloc[:,112].values"
   ]
  },
  {
   "cell_type": "code",
   "execution_count": 10,
   "metadata": {
    "collapsed": true
   },
   "outputs": [],
   "source": [
    "validation_size = 0.4\n",
    "seed = 7\n",
    "X_train, X_validation, Y_train, Y_validation = train_test_split(X, y, test_size=validation_size, random_state=seed)"
   ]
  },
  {
   "cell_type": "code",
   "execution_count": 4,
   "metadata": {
    "collapsed": true
   },
   "outputs": [],
   "source": [
    "# Split-out validation dataset\n",
    "array = df.values\n",
    "target_index = df.columns.get_loc(\"113\") # obtain the 'status' location\n",
    "Y = array[:,target_index]\n",
    "features = df.drop(['113'], axis=1) #drop the 'status' target\n",
    "X = features #features.values\n",
    "validation_size = 0.4\n",
    "seed = 7\n",
    "X_train, X_validation, Y_train, Y_validation = train_test_split(X, Y, test_size=validation_size, random_state=seed)\n",
    "#validation_size = 0.4\n",
    "#seed = 7\n",
    "#X_train, X_validation, Y_train, Y_validation = train_test_split(X, y, test_size=validation_size, random_state=seed)"
   ]
  },
  {
   "cell_type": "code",
   "execution_count": 5,
   "metadata": {},
   "outputs": [
    {
     "data": {
      "text/plain": [
       "0.9175986842105263"
      ]
     },
     "execution_count": 5,
     "metadata": {},
     "output_type": "execute_result"
    }
   ],
   "source": [
    "# Random Forests\n",
    "from sklearn.ensemble import RandomForestClassifier\n",
    "random_forest = RandomForestClassifier(n_estimators=300, oob_score = True,  random_state = 42)\n",
    "random_forest.fit(X_train, Y_train)\n",
    "Y_pred_rf = random_forest.predict(X_validation)\n",
    "random_forest.score(X_train, Y_train)\n",
    "rf_accur = accuracy_score(Y_validation, Y_pred_rf)\n",
    "rf_accur"
   ]
  },
  {
   "cell_type": "code",
   "execution_count": 12,
   "metadata": {
    "collapsed": true
   },
   "outputs": [],
   "source": [
    "import pandas\n",
    "import io\n",
    "X = df.iloc[:, [    1  ,   2  ,   3  ,   5  ,   6  ,   7  ,   8  ,   9  ,   10  ,   11  ,   12  ,   17  ,   18  ,\n",
    "         19  ,   20  ,   21  ,   22  ,   27  ,   29  ,   30  ,   31  ,   32  ,   33  ,   34  ,   36  ,\n",
    "         37  ,   38  ,   39  ,   45  ,   46  ,   47  ,   50  ,   53  ,   54  ,   56  ,   62  ,   63  ,\n",
    "         65  ,   68  ,   69  ,   71  ,   72  ,   75  ,   77  ,   79  ,   80  ,   82  ,   83  ,   84  ,\n",
    "         85  ,   88  ,   90  ,   93  ,   98  ,   100  ,   103  ,   110    ]].values\n",
    "\n",
    "y = df.iloc[:,112].values"
   ]
  },
  {
   "cell_type": "code",
   "execution_count": 13,
   "metadata": {},
   "outputs": [
    {
     "name": "stdout",
     "output_type": "stream",
     "text": [
      "             precision    recall  f1-score   support\n",
      "\n",
      "          0       0.96      1.00      0.98      3227\n",
      "          1       0.84      0.39      0.54       250\n",
      "          2       0.87      0.93      0.90      1405\n",
      "          3       0.70      0.52      0.60       276\n",
      "          4       0.88      0.82      0.85       251\n",
      "          5       0.85      0.87      0.86       664\n",
      "          6       0.00      0.00      0.00         7\n",
      "\n",
      "avg / total       0.91      0.91      0.91      6080\n",
      "\n",
      "Accuracy of our model is: 0.9129934210526316\n"
     ]
    },
    {
     "name": "stderr",
     "output_type": "stream",
     "text": [
      "C:\\Users\\junaid\\AppData\\Local\\Continuum\\Anaconda3\\lib\\site-packages\\sklearn\\metrics\\classification.py:1135: UndefinedMetricWarning: Precision and F-score are ill-defined and being set to 0.0 in labels with no predicted samples.\n",
      "  'precision', 'predicted', average, warn_for)\n"
     ]
    }
   ],
   "source": [
    "# Random Forests\n",
    "from sklearn.ensemble import RandomForestClassifier\n",
    "random_forest = RandomForestClassifier(n_estimators=300, oob_score = True,  random_state = 42)\n",
    "random_forest.fit(X_train, Y_train)\n",
    "Y_pred_rf = random_forest.predict(X_validation)\n",
    "random_forest.score(X_train, Y_train)\n",
    "rf_accur = accuracy_score(Y_validation, Y_pred_rf)\n",
    "rf_accur\n",
    "cm= confusion_matrix(Y_validation, Y_pred_rf)\n",
    "print(classification_report(Y_validation, Y_pred_rf))\n",
    "print(\"Accuracy of our model is:\" ,rf_accur)"
   ]
  },
  {
   "cell_type": "code",
   "execution_count": 6,
   "metadata": {},
   "outputs": [
    {
     "name": "stderr",
     "output_type": "stream",
     "text": [
      "C:\\Users\\junaid\\AppData\\Local\\Continuum\\Anaconda3\\lib\\site-packages\\sklearn\\model_selection\\_split.py:597: Warning: The least populated class in y has only 4 members, which is too few. The minimum number of members in any class cannot be less than n_splits=5.\n",
      "  % (min_groups, self.n_splits)), Warning)\n",
      "C:\\Users\\junaid\\AppData\\Local\\Continuum\\Anaconda3\\lib\\site-packages\\sklearn\\utils\\__init__.py:93: FutureWarning: Conversion of the second argument of issubdtype from `int` to `np.signedinteger` is deprecated. In future, it will be treated as `np.int32 == np.dtype(int).type`.\n",
      "  if np.issubdtype(mask.dtype, np.int):\n"
     ]
    },
    {
     "name": "stdout",
     "output_type": "stream",
     "text": [
      "Optimal number of features : 75\n",
      "Best features : Index(['1', '2', '3', '5', '6', '7', '8', '9', '10', '11', '12', '14', '16',\n",
      "       '17', '18', '19', '20', '21', '22', '26', '27', '28', '29', '30', '31',\n",
      "       '32', '33', '34', '35', '36', '37', '39', '41', '42', '44', '45', '46',\n",
      "       '47', '50', '53', '54', '55', '56', '59', '61', '62', '63', '64', '65',\n",
      "       '70', '71', '72', '73', '75', '77', '78', '79', '80', '82', '83', '84',\n",
      "       '85', '88', '90', '93', '95', '98', '100', '103', '104', '105', '107',\n",
      "       '108', '109', '110'],\n",
      "      dtype='object')\n"
     ]
    }
   ],
   "source": [
    "from sklearn.feature_selection import RFECV\n",
    "\n",
    "# The \"accuracy\" scoring is proportional to the number of correct classifications\n",
    "clf_rf_4 = RandomForestClassifier() \n",
    "rfecv = RFECV(estimator=clf_rf_4, step=1, cv=5,scoring='accuracy')   #5-fold cross-validation\n",
    "rfecv = rfecv.fit(X_train, Y_train)\n",
    "\n",
    "print('Optimal number of features :', rfecv.n_features_)\n",
    "print('Best features :', X_train.columns[rfecv.support_])"
   ]
  },
  {
   "cell_type": "code",
   "execution_count": null,
   "metadata": {
    "collapsed": true
   },
   "outputs": [],
   "source": []
  }
 ],
 "metadata": {
  "kernelspec": {
   "display_name": "Python 3",
   "language": "python",
   "name": "python3"
  },
  "language_info": {
   "codemirror_mode": {
    "name": "ipython",
    "version": 3
   },
   "file_extension": ".py",
   "mimetype": "text/x-python",
   "name": "python",
   "nbconvert_exporter": "python",
   "pygments_lexer": "ipython3",
   "version": "3.5.5"
  }
 },
 "nbformat": 4,
 "nbformat_minor": 2
}
